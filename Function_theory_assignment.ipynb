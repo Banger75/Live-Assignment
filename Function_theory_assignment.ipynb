{
  "nbformat": 4,
  "nbformat_minor": 0,
  "metadata": {
    "colab": {
      "provenance": [],
      "authorship_tag": "ABX9TyO2yV7JP+jYzgaDIBCUZfN3",
      "include_colab_link": true
    },
    "kernelspec": {
      "name": "python3",
      "display_name": "Python 3"
    },
    "language_info": {
      "name": "python"
    }
  },
  "cells": [
    {
      "cell_type": "markdown",
      "metadata": {
        "id": "view-in-github",
        "colab_type": "text"
      },
      "source": [
        "<a href=\"https://colab.research.google.com/github/Banger75/Live-assignment/blob/main/Function_theory_assignment.ipynb\" target=\"_parent\"><img src=\"https://colab.research.google.com/assets/colab-badge.svg\" alt=\"Open In Colab\"/></a>"
      ]
    },
    {
      "cell_type": "markdown",
      "source": [
        "## Q.1 what is the difference between a function and a method in python.\n",
        "\n",
        "Answer:- The main difference between a function and a method is their association with objects:\n",
        "\n",
        "Function: A function is a block of code that can be called independently and is not tied to any specific object. It can be defined using the def keyword and called from anywhere in the program.\n",
        "\n",
        "Method: A method is similar to a function but is associated with an object. Methods are functions that belong to an object or a class and are typically called using dot notation. Methods in Python are defined within a class.\n"
      ],
      "metadata": {
        "id": "Ml2HPcsvTo_h"
      }
    },
    {
      "cell_type": "code",
      "source": [
        "# Function\n",
        "def greet(name):\n",
        "    return f\"Hello, {name}!\"\n",
        "\n",
        "print(greet(\"Vipan\"))  # Calling a function independently\n",
        "\n",
        "# Method\n",
        "class Person:\n",
        "    def __init__(self, name):\n",
        "        self.name = name\n",
        "\n",
        "    def greet(self):\n",
        "        return f\"Hello, {self.name}!\"\n",
        "\n",
        "p = Person(\"Shally\")\n",
        "print(p.greet())  # Calling a method, associated with the object p"
      ],
      "metadata": {
        "colab": {
          "base_uri": "https://localhost:8080/"
        },
        "id": "8iZSwfNiTn3B",
        "outputId": "14722b5b-9f0c-4509-cc4c-4c7e3323269e"
      },
      "execution_count": null,
      "outputs": [
        {
          "output_type": "stream",
          "name": "stdout",
          "text": [
            "Hello, Vipan!\n",
            "Hello, Shally!\n"
          ]
        }
      ]
    },
    {
      "cell_type": "markdown",
      "source": [
        "greet(name) is a function, which can be called directly with an argument.\n",
        "\n",
        "greet(self) inside the Person class is a method, which is called on an instance of the Person class (i.e., p.greet())."
      ],
      "metadata": {
        "id": "54xIsbN9UGtM"
      }
    },
    {
      "cell_type": "markdown",
      "source": [
        "# Q. 2  Explain the concept of function arguments and parameters in python.\n",
        "\n",
        "Answer:-parameters and arguments are terms related to how values are passed into functions.\n",
        "\n",
        "Parameters: These are the variables listed in the function definition. They act as placeholders for the values that will be provided when the function is called.\n",
        "\n",
        "Arguments: These are the actual values passed to the function when you call it. They are assigned to the corresponding parameters in the function definition.\n",
        "\n"
      ],
      "metadata": {
        "id": "KWpx8NCeUzTh"
      }
    },
    {
      "cell_type": "code",
      "source": [
        "# Function definition with parameters\n",
        "def add_numbers(a, b):  # a and b are parameters\n",
        "    return a + b\n",
        "\n",
        "# Function call with arguments\n",
        "result = add_numbers(3, 5)  # 3 and 5 are arguments\n",
        "print(result)  # Output: 8"
      ],
      "metadata": {
        "colab": {
          "base_uri": "https://localhost:8080/"
        },
        "id": "mPlmge8zUuNZ",
        "outputId": "05565e1b-de68-41bb-b54c-d43c5f7eff39"
      },
      "execution_count": null,
      "outputs": [
        {
          "output_type": "stream",
          "name": "stdout",
          "text": [
            "8\n"
          ]
        }
      ]
    },
    {
      "cell_type": "markdown",
      "source": [
        "Parameters: a and b are the parameters defined in the function add_numbers.\n",
        "Arguments: When calling add_numbers(3, 5), the values 3 and 5 are the arguments passed to the function.\n",
        "\n",
        "Types of Function Arguments:\n",
        "\n",
        "Positional Arguments: Values are passed based on their position in the function call.\n",
        "\n",
        "Keyword Arguments: Values are passed using the parameter names.\n",
        "\n",
        "Default Arguments: Parameters can have default values if no arguments are passed.\n",
        "\n",
        "Variable-Length Arguments: Allows passing a variable number of arguments using *args or **kwargs."
      ],
      "metadata": {
        "id": "bdm6v5j3Vvox"
      }
    },
    {
      "cell_type": "markdown",
      "source": [
        "## Q. 3  what are the different ways to define and call a function in python\n",
        "\n",
        "Answer:- there are several ways to define and call functions. Below are the common methods, each with examples:\n",
        "\n",
        "1. Simple Function Definition and Call\n",
        "A basic function that accepts arguments and returns a value.\n",
        "\n",
        "Example:"
      ],
      "metadata": {
        "id": "-FP99g-lWNj2"
      }
    },
    {
      "cell_type": "code",
      "source": [
        "# Function definition\n",
        "def greet(name):\n",
        "    return f\"Hello, {name}!\"\n",
        "\n",
        "# Function call\n",
        "print(greet(\"Alice\"))"
      ],
      "metadata": {
        "colab": {
          "base_uri": "https://localhost:8080/"
        },
        "id": "09rMxuVWWcIZ",
        "outputId": "f1ec3491-d60a-42c5-efbe-edcc85c21fcd"
      },
      "execution_count": null,
      "outputs": [
        {
          "output_type": "stream",
          "name": "stdout",
          "text": [
            "Hello, Alice!\n"
          ]
        }
      ]
    },
    {
      "cell_type": "markdown",
      "source": [
        "2. Function with Default Parameters\n",
        "Functions can have default parameter values, which are used if no argument is passed.\n",
        "\n",
        "Example:"
      ],
      "metadata": {
        "id": "neAJDeNUWgtA"
      }
    },
    {
      "cell_type": "code",
      "source": [
        "# Function definition with default parameter\n",
        "def greet(name=\"Guest\"):\n",
        "    return f\"Hello, {name}!\"\n",
        "\n",
        "# Function calls\n",
        "print(greet(\"Alice\"))  # Passes argument\n",
        "print(greet())         # Uses default parameter"
      ],
      "metadata": {
        "colab": {
          "base_uri": "https://localhost:8080/"
        },
        "id": "CHkwPN4tWhsX",
        "outputId": "234a19a2-e659-4434-c901-69d3ee7c618c"
      },
      "execution_count": null,
      "outputs": [
        {
          "output_type": "stream",
          "name": "stdout",
          "text": [
            "Hello, Alice!\n",
            "Hello, Guest!\n"
          ]
        }
      ]
    },
    {
      "cell_type": "markdown",
      "source": [
        "3. Positional Arguments\n",
        "\n",
        "Arguments are passed in the same order as the parameters in the function definition.\n",
        "\n",
        "Example:"
      ],
      "metadata": {
        "id": "JlOMCmzGWlfB"
      }
    },
    {
      "cell_type": "code",
      "source": [
        "def add(a, b):\n",
        "    return a + b\n",
        "\n",
        "# Function call with positional arguments\n",
        "print(add(3, 5))  # Output: 8"
      ],
      "metadata": {
        "colab": {
          "base_uri": "https://localhost:8080/"
        },
        "id": "SU3qXOJ3WmYX",
        "outputId": "838b4e9c-d273-498d-de8c-d82a317707eb"
      },
      "execution_count": null,
      "outputs": [
        {
          "output_type": "stream",
          "name": "stdout",
          "text": [
            "8\n"
          ]
        }
      ]
    },
    {
      "cell_type": "markdown",
      "source": [
        "4. Keyword Arguments\n",
        "\n",
        "You can specify the arguments using parameter names, regardless of the order.\n",
        "\n",
        "Example:"
      ],
      "metadata": {
        "id": "tc3V-YU1WqJJ"
      }
    },
    {
      "cell_type": "code",
      "source": [
        "def subtract(a, b):\n",
        "    return a - b\n",
        "\n",
        "# Function call with keyword arguments\n",
        "print(subtract(b=10, a=15))  # Output: 5"
      ],
      "metadata": {
        "colab": {
          "base_uri": "https://localhost:8080/"
        },
        "id": "4fjxUNqlWq34",
        "outputId": "a933fc34-a5f2-417c-fdb8-b979efbb4cbc"
      },
      "execution_count": null,
      "outputs": [
        {
          "output_type": "stream",
          "name": "stdout",
          "text": [
            "5\n"
          ]
        }
      ]
    },
    {
      "cell_type": "markdown",
      "source": [
        "5. Variable-Length Arguments (*args)\n",
        "\n",
        "A function can accept a variable number of positional arguments using *args.\n",
        "\n",
        "Example:"
      ],
      "metadata": {
        "id": "6tcg0NFnWuvJ"
      }
    },
    {
      "cell_type": "code",
      "source": [
        "def multiply(*args):\n",
        "    result = 1\n",
        "    for num in args:\n",
        "        result *= num\n",
        "    return result\n",
        "\n",
        "# Function calls with different numbers of arguments\n",
        "print(multiply(2, 3))       # Output: 6\n",
        "print(multiply(2, 3, 4))    # Output: 24"
      ],
      "metadata": {
        "colab": {
          "base_uri": "https://localhost:8080/"
        },
        "id": "ZVyFScrfWveh",
        "outputId": "d18f143f-394b-431a-8d6c-0cec61cc3e6b"
      },
      "execution_count": null,
      "outputs": [
        {
          "output_type": "stream",
          "name": "stdout",
          "text": [
            "6\n",
            "24\n"
          ]
        }
      ]
    },
    {
      "cell_type": "markdown",
      "source": [
        "6. Variable-Length Keyword Arguments (**kwargs)\n",
        "\n",
        "A function can accept a variable number of keyword arguments using **kwargs.\n",
        "\n",
        "Example:"
      ],
      "metadata": {
        "id": "CuIEqsSWWy7E"
      }
    },
    {
      "cell_type": "code",
      "source": [
        "def display_info(**kwargs):\n",
        "    for key, value in kwargs.items():\n",
        "        print(f\"{key}: {value}\")\n",
        "\n",
        "# Function call with keyword arguments\n",
        "display_info(name=\"Alice\", age=30, city=\"New York\")"
      ],
      "metadata": {
        "colab": {
          "base_uri": "https://localhost:8080/"
        },
        "id": "lCv7G0loW1HL",
        "outputId": "d47a9c2d-b6ec-472d-cc82-424fca43958e"
      },
      "execution_count": null,
      "outputs": [
        {
          "output_type": "stream",
          "name": "stdout",
          "text": [
            "name: Alice\n",
            "age: 30\n",
            "city: New York\n"
          ]
        }
      ]
    },
    {
      "cell_type": "markdown",
      "source": [
        "7. Lambda Functions (Anonymous Functions)\n",
        "\n",
        "A lambda function is a small anonymous function that can have any number of arguments but only one expression.\n",
        "\n",
        "Example:"
      ],
      "metadata": {
        "id": "VaZ2heofW3Rx"
      }
    },
    {
      "cell_type": "code",
      "source": [
        "# Lambda function definition and call\n",
        "square = lambda x: x ** 2\n",
        "print(square(4))  # Output: 16"
      ],
      "metadata": {
        "colab": {
          "base_uri": "https://localhost:8080/"
        },
        "id": "oFcUq-WbW4Oj",
        "outputId": "20015bbc-6287-4d5f-92dc-40b5104dff0f"
      },
      "execution_count": null,
      "outputs": [
        {
          "output_type": "stream",
          "name": "stdout",
          "text": [
            "16\n"
          ]
        }
      ]
    },
    {
      "cell_type": "markdown",
      "source": [
        "8. Higher-Order Functions (Passing Functions as Arguments)\n",
        "\n",
        "A function can take another function as an argument.\n",
        "\n",
        "Example:"
      ],
      "metadata": {
        "id": "fcWVoqjKW6s8"
      }
    },
    {
      "cell_type": "code",
      "source": [
        "def apply_function(func, value):\n",
        "    return func(value)\n",
        "\n",
        "# Passing a lambda function as an argument\n",
        "print(apply_function(lambda x: x ** 3, 5))  # Output: 125"
      ],
      "metadata": {
        "colab": {
          "base_uri": "https://localhost:8080/"
        },
        "id": "nr33nHfNW-LT",
        "outputId": "a7f7f3ba-15fb-429f-8c88-cbcfc04d32b7"
      },
      "execution_count": null,
      "outputs": [
        {
          "output_type": "stream",
          "name": "stdout",
          "text": [
            "125\n"
          ]
        }
      ]
    },
    {
      "cell_type": "markdown",
      "source": [
        "## Q.4- what is the purpose of the return statement in a python function.\n",
        "\n",
        "Answer:- The return statement in a Python function is used to exit the function and send a value back to the caller. It effectively defines the output of the function. Once the return statement is executed, the function terminates, and the specified value is returned to the place where the function was called.\n",
        "\n",
        "Purpose of the return Statement:\n",
        "Returning Values: The main purpose is to return a value (or multiple values) from the function to the caller, allowing the result to be used elsewhere.\n",
        "Ending Function Execution: The function stops executing as soon as the return statement is reached, even if there is more code after it."
      ],
      "metadata": {
        "id": "cb0OEkdJXA2r"
      }
    },
    {
      "cell_type": "code",
      "source": [
        "# Function with return statement\n",
        "def add(a, b):\n",
        "    return a + b  # Returns the sum of a and b\n",
        "\n",
        "# Function call and using the return value\n",
        "result = add(3, 5)\n",
        "print(result)  # Output: 8"
      ],
      "metadata": {
        "colab": {
          "base_uri": "https://localhost:8080/"
        },
        "id": "6y8JCGqqXMvE",
        "outputId": "db0dc0f3-1e32-49e8-88ca-3bbbb25e2b45"
      },
      "execution_count": null,
      "outputs": [
        {
          "output_type": "stream",
          "name": "stdout",
          "text": [
            "8\n"
          ]
        }
      ]
    },
    {
      "cell_type": "markdown",
      "source": [
        "In this example:\n",
        "\n",
        "The function add(a, b) uses the return statement to send the sum of a and b back to the caller.\n",
        "The returned value is stored in the variable result, which can be used later in the program.\n",
        "Example Without a Return Statement:\n",
        "If a function doesn’t include a return statement, it returns None by default."
      ],
      "metadata": {
        "id": "7YmVohZIXPFU"
      }
    },
    {
      "cell_type": "code",
      "source": [
        "# Function without return statement\n",
        "def greet(name):\n",
        "    print(f\"Hello, {name}!\")\n",
        "\n",
        "# Function call\n",
        "result = greet(\"Alice\")\n",
        "print(result)  # Output: None"
      ],
      "metadata": {
        "colab": {
          "base_uri": "https://localhost:8080/"
        },
        "id": "Vh1hhkjHXR-c",
        "outputId": "ddc57e4d-6d75-4325-c57c-eb76f6751a2a"
      },
      "execution_count": null,
      "outputs": [
        {
          "output_type": "stream",
          "name": "stdout",
          "text": [
            "Hello, Alice!\n",
            "None\n"
          ]
        }
      ]
    },
    {
      "cell_type": "markdown",
      "source": [
        "## Q.5- what are iterators in python and how do they differ from iterables.\n",
        "\n",
        "Answer:- the terms iterators and iterables are related to the concept of looping or iterating over data. They are fundamental to understanding how loops like for work in Python.\n",
        "\n",
        "Iterables:\n",
        "An iterable is any Python object that can return its members one at a time, allowing it to be looped over. Examples include lists, tuples, strings, dictionaries, sets, etc. An iterable is an object capable of returning an iterator using the iter() function.\n",
        "\n",
        "Examples of iterables: Lists, tuples, strings, and dictionaries.\n",
        "Methods: An iterable must implement the __iter__() method, which returns an iterator.\n",
        "Iterators:\n",
        "An iterator is an object that represents a stream of data. It is an object with a __next__() method that returns the next item in the sequence, and it raises a StopIteration exception when no more data is available. Iterators are used to traverse through all the elements of an iterable, one element at a time.\n",
        "\n",
        "Method: An iterator must implement two methods: __iter__() and __next__().\n",
        "Difference Between Iterables and Iterators:\n",
        "Iterable: An object that can be iterated over (e.g., lists, tuples, strings, etc.).\n",
        "Iterator: An object that performs the actual iteration and fetches the elements one at a time from an iterable.\n",
        "All iterators are iterables (since they implement __iter__()), but not all iterables are iterators. Iterables can be converted into iterators using the iter() function.\n",
        "\n",
        "Example:"
      ],
      "metadata": {
        "id": "0VcHbGdtXWfI"
      }
    },
    {
      "cell_type": "code",
      "source": [
        "# List is an iterable\n",
        "my_list = [1, 2, 3]\n",
        "\n",
        "# Converting an iterable to an iterator\n",
        "my_iterator = iter(my_list)\n",
        "\n",
        "# Using the iterator to fetch elements one by one\n",
        "print(next(my_iterator))  # Output: 1\n",
        "print(next(my_iterator))  # Output: 2\n",
        "print(next(my_iterator))  # Output: 3\n",
        "\n",
        "# If we try to call next() again, it will raise StopIteration\n",
        "# print(next(my_iterator))  # Uncommenting this will raise StopIteration\n"
      ],
      "metadata": {
        "colab": {
          "base_uri": "https://localhost:8080/"
        },
        "id": "CLh9EnQbXhZX",
        "outputId": "924029ac-6102-483e-db3a-2506c1f5c4c5"
      },
      "execution_count": null,
      "outputs": [
        {
          "output_type": "stream",
          "name": "stdout",
          "text": [
            "1\n",
            "2\n",
            "3\n"
          ]
        }
      ]
    },
    {
      "cell_type": "markdown",
      "source": [
        "Explanation:\n",
        "Iterable: my_list is an iterable because it can be looped over (e.g., in a for loop).\n",
        "Iterator: my_iterator is an iterator that can be used to fetch elements from my_list one at a time using the next() function.\n",
        "Key Points:\n",
        "You can loop over an iterable directly (e.g., with a for loop).\n",
        "You need to call iter() to get an iterator from an iterable.\n",
        "The iterator fetches one item at a time using next(), and once the items are exhausted, it raises a StopIteration exception."
      ],
      "metadata": {
        "id": "Im9uddcAYAnb"
      }
    },
    {
      "cell_type": "markdown",
      "source": [
        "## Q.6- Explain the concept of generators in python and how they are defined\n",
        "\n",
        "Answer:- generators are a type of iterable, like lists or tuples, but they allow you to iterate through values lazily, meaning they generate items on the fly and do not store all values in memory at once. This makes them memory-efficient when dealing with large datasets.\n",
        "\n",
        "Key Features of Generators:\n",
        "Lazy Evaluation: Generators produce items one at a time and only when requested, rather than computing all values at once.\n",
        "Yield Keyword: Instead of using return like in a regular function, generators use the yield keyword to return a value and pause the function's execution. When yield is called, the function’s state is saved, allowing it to resume where it left off when called again.\n",
        "How to Define a Generator:\n",
        "Using a Function with yield: A generator function is similar to a regular function, but it uses yield instead of return to return values one by one.\n",
        "Example of a Generator Function:"
      ],
      "metadata": {
        "id": "UD0d6j30YIXl"
      }
    },
    {
      "cell_type": "code",
      "source": [
        "# Generator function definition\n",
        "def count_up_to(max_value):\n",
        "    count = 1\n",
        "    while count <= max_value:\n",
        "        yield count  # Yield returns value and pauses the function\n",
        "        count += 1\n",
        "\n",
        "# Using the generator\n",
        "counter = count_up_to(3)  # Creates a generator object\n",
        "\n",
        "# Iterating through generator\n",
        "print(next(counter))  # Output: 1\n",
        "print(next(counter))  # Output: 2\n",
        "print(next(counter))  # Output: 3\n",
        "\n",
        "# After this, it raises StopIteration since no more values are left.\n",
        "# print(next(counter))  # Uncommenting will raise StopIteration"
      ],
      "metadata": {
        "colab": {
          "base_uri": "https://localhost:8080/"
        },
        "id": "3O6pnfNUYQ-V",
        "outputId": "8e90ea3c-c85c-4752-9c41-b80a798479e6"
      },
      "execution_count": null,
      "outputs": [
        {
          "output_type": "stream",
          "name": "stdout",
          "text": [
            "1\n",
            "2\n",
            "3\n"
          ]
        }
      ]
    },
    {
      "cell_type": "markdown",
      "source": [
        "Explanation:\n",
        "The generator function count_up_to(max_value) yields the value of count and then pauses. On the next call (via next()), it resumes where it left off, incrementing count and yielding the next value until count exceeds max_value.\n",
        "Once all values are generated, calling next() on the generator raises a StopIteration exception, signaling that there are no more values to generate.\n",
        "Differences Between Generators and Regular Functions:\n",
        "Generators use yield to return multiple values over time, while regular functions use return to return a single value and terminate.\n",
        "Memory Efficiency: Generators don’t store all their results in memory. They generate values on the fly, making them suitable for handling large datasets or streams.\n",
        "Example: Using Generators in a Loop\n",
        "You can iterate through generator objects using a for loop, which automatically handles the StopIteration exception."
      ],
      "metadata": {
        "id": "DN4hlLXgYW7m"
      }
    },
    {
      "cell_type": "code",
      "source": [
        "# Generator function\n",
        "def even_numbers(limit):\n",
        "    num = 0\n",
        "    while num <= limit:\n",
        "        if num % 2 == 0:\n",
        "            yield num\n",
        "        num += 1\n",
        "\n",
        "# Iterating over generator with a for loop\n",
        "for even in even_numbers(10):\n",
        "    print(even)  # Output: 0, 2, 4, 6, 8, 10"
      ],
      "metadata": {
        "colab": {
          "base_uri": "https://localhost:8080/"
        },
        "id": "zytLkc02YYl2",
        "outputId": "0a907349-d259-40c5-d6e4-6dd2f6717e9f"
      },
      "execution_count": null,
      "outputs": [
        {
          "output_type": "stream",
          "name": "stdout",
          "text": [
            "0\n",
            "2\n",
            "4\n",
            "6\n",
            "8\n",
            "10\n"
          ]
        }
      ]
    },
    {
      "cell_type": "markdown",
      "source": [
        "Generator Expression (A More Concise Syntax)\n",
        "Python also allows you to create generators using generator expressions, similar to list comprehensions, but with parentheses instead of square brackets."
      ],
      "metadata": {
        "id": "J8U1aJ9AYbme"
      }
    },
    {
      "cell_type": "code",
      "source": [
        "# Generator expression to create a generator\n",
        "squares = (x ** 2 for x in range(5))\n",
        "\n",
        "# Iterating over generator expression\n",
        "for square in squares:\n",
        "    print(square)  # Output: 0, 1, 4, 9, 16"
      ],
      "metadata": {
        "colab": {
          "base_uri": "https://localhost:8080/"
        },
        "id": "bfol_SeYYd1O",
        "outputId": "18ca6d7e-e1de-4723-e864-254cbf3e15e6"
      },
      "execution_count": null,
      "outputs": [
        {
          "output_type": "stream",
          "name": "stdout",
          "text": [
            "0\n",
            "1\n",
            "4\n",
            "9\n",
            "16\n"
          ]
        }
      ]
    },
    {
      "cell_type": "markdown",
      "source": [
        "## Q.7- what are the advantages of using generators over regular functions\n",
        "\n",
        "Answer:- Generators offer several advantages over regular functions, especially when it comes to efficiency and memory usage. Here are the key advantages of using generators:\n",
        "\n",
        "1. Memory Efficiency\n",
        "Generators produce values one at a time and only when requested, which means they do not store the entire sequence of values in memory. This is especially useful when working with large datasets or infinite sequences.\n",
        "In contrast, regular functions that return collections like lists store all values in memory at once, which can lead to high memory usage, especially with large datasets.\n",
        "Example: Imagine generating a list of a million numbers. A regular function will store all of them in memory, but a generator only produces one number at a time, keeping memory usage low."
      ],
      "metadata": {
        "id": "N3b7uvuWYgOW"
      }
    },
    {
      "cell_type": "code",
      "source": [
        "# Regular function that stores all values\n",
        "def generate_list(n):\n",
        "    return [i for i in range(n)]\n",
        "\n",
        "# Generator function that yields values one by one\n",
        "def generate_numbers(n):\n",
        "    for i in range(n):\n",
        "        yield i"
      ],
      "metadata": {
        "id": "ZzzF3hjMYqUx"
      },
      "execution_count": null,
      "outputs": []
    },
    {
      "cell_type": "markdown",
      "source": [
        "2. Lazy Evaluation\n",
        "Generators use lazy evaluation, meaning they generate values on the fly when needed, instead of computing everything up front. This can save computation time and resources, especially when only a portion of the data is needed.\n",
        "Regular functions compute the entire result before returning, which can lead to unnecessary computation if not all the data is used.\n",
        "Example: If you only need the first few values from a large sequence, a generator will stop after producing those values, while a regular function will compute the entire sequence."
      ],
      "metadata": {
        "id": "Z_k4qiNSYuWY"
      }
    },
    {
      "cell_type": "code",
      "source": [
        "# Using a generator for lazy evaluation\n",
        "def generate_infinite():\n",
        "    n = 0\n",
        "    while True:\n",
        "        yield n\n",
        "        n += 1\n",
        "\n",
        "gen = generate_infinite()\n",
        "\n",
        "# Only consumes the first 5 values\n",
        "for _ in range(5):\n",
        "    print(next(gen))  # Output: 0, 1, 2, 3, 4"
      ],
      "metadata": {
        "colab": {
          "base_uri": "https://localhost:8080/"
        },
        "id": "4HblAbh1YvFR",
        "outputId": "48684aa5-619e-414c-eeb2-9398f61895f7"
      },
      "execution_count": null,
      "outputs": [
        {
          "output_type": "stream",
          "name": "stdout",
          "text": [
            "0\n",
            "1\n",
            "2\n",
            "3\n",
            "4\n"
          ]
        }
      ]
    },
    {
      "cell_type": "markdown",
      "source": [
        "3. Improved Performance with Large Data\n",
        "Generators can be used to handle large streams of data efficiently. Since generators don't compute or store all values at once, they can significantly reduce both memory usage and processing time when working with large or potentially infinite data streams.\n",
        "Regular functions can struggle with performance when dealing with large datasets, as they need to hold the entire dataset in memory.\n",
        "4. Infinite Sequences\n",
        "Generators are ideal for producing infinite sequences because they only generate values on demand. This makes them perfect for applications where data continues to arrive over time, such as reading from a file or network socket.\n",
        "Regular functions cannot handle infinite sequences, as they would run out of memory trying to store all the values.\n",
        "Example: A generator to create an infinite sequence of numbers."
      ],
      "metadata": {
        "id": "P5I1Eh0vYzaB"
      }
    },
    {
      "cell_type": "code",
      "source": [
        "def infinite_counter():\n",
        "    n = 0\n",
        "    while True:\n",
        "        yield n\n",
        "        n += 1"
      ],
      "metadata": {
        "id": "UMLbXLjUY0Sx"
      },
      "execution_count": null,
      "outputs": []
    },
    {
      "cell_type": "markdown",
      "source": [
        "5. Better Handling of Streamed Data\n",
        "Generators can be particularly useful when working with data streams (such as reading large files line by line, or processing web data in chunks), since they allow you to process the data incrementally.\n",
        "A regular function would need to read the entire file or stream into memory before processing.\n",
        "Example: Reading a large file line by line using a generator."
      ],
      "metadata": {
        "id": "QwCcH33rY5qs"
      }
    },
    {
      "cell_type": "code",
      "source": [
        "def read_large_file(file_name):\n",
        "    with open(file_name, 'r') as f:\n",
        "        for line in f:\n",
        "            yield line  # Yield one line at a time\n",
        "\n",
        "for line in read_large_file(\"/content/example.txt\"):\n",
        "    print(line)  # Process one line at a time, without loading the entire file"
      ],
      "metadata": {
        "colab": {
          "base_uri": "https://localhost:8080/"
        },
        "id": "4WQAf0DwY6eL",
        "outputId": "070a2770-3d59-4fae-8cf4-9dc74a3e2d0a"
      },
      "execution_count": 6,
      "outputs": [
        {
          "output_type": "stream",
          "name": "stdout",
          "text": [
            "1. Data Independence: A DBMS provides data independence, which means it separates the physical representation of data from its logical structure. This allows changes to be made to the database structure without affecting the applications that use the data.\n",
            "\n",
            "2. Data Definition Language (DDL): A DBMS provides a DDL that allows users to define the database schema, including creating tables, specifying relationships, and defining constraints. The DDL provides a way to describe the structure of the database.\n",
            "\n",
            "3. Data Manipulation Language (DML): A DBMS provides a DML that allows users to manipulate the data in the database. The DML includes commands for inserting, updating, deleting, and querying data.\n",
            "\n",
            "4. Data Integrity: A DBMS ensures data integrity by enforcing constraints and rules defined in the database schema. It prevents invalid data from being inserted or maintained in the database.\n",
            "\n",
            "5. Concurrency Control: A DBMS manages concurrent access to the database by multiple users or applications. It ensures that transactions are executed in an isolated and consistent manner, preventing conflicts and maintaining data integrity.\n",
            "\n",
            "\n",
            "\n"
          ]
        }
      ]
    },
    {
      "cell_type": "markdown",
      "source": [
        "6. Simpler and Cleaner Code for Iterative Algorithms\n",
        "Generators make certain algorithms easier to implement and understand because you don’t need to explicitly manage the state of the iteration.\n",
        "In regular functions, you would typically need to maintain a list or manually manage the state of the iteration, which can lead to more complex code.\n",
        "7. Pipelining Generators\n",
        "Generators can be composed or chained together to create a pipeline of operations, where each generator yields values to the next one. This allows you to break down complex processing into a series of simple, memory-efficient steps.\n",
        "Regular functions would require intermediate data structures to store values between steps, which increases memory usage.\n",
        "Example: Chaining generators to filter and transform data in a pipeline."
      ],
      "metadata": {
        "id": "yWLXkSCKY8ll"
      }
    },
    {
      "cell_type": "code",
      "source": [
        "def integers():\n",
        "    for i in range(1, 10):\n",
        "        yield i\n",
        "\n",
        "def squared(numbers):\n",
        "    for number in numbers:\n",
        "        yield number * number\n",
        "\n",
        "def even(numbers):\n",
        "    for number in numbers:\n",
        "        if number % 2 == 0:\n",
        "            yield number\n",
        "\n",
        "# Chaining generators\n",
        "numbers = integers()\n",
        "squared_numbers = squared(numbers)\n",
        "even_numbers = even(squared_numbers)\n",
        "\n",
        "print(list(even_numbers))  # Output: [4, 16, 36, 64]"
      ],
      "metadata": {
        "colab": {
          "base_uri": "https://localhost:8080/"
        },
        "id": "lvnUge4ZZAfL",
        "outputId": "ed6416a1-7f27-4338-fa59-a9595c9ef2a2"
      },
      "execution_count": 7,
      "outputs": [
        {
          "output_type": "stream",
          "name": "stdout",
          "text": [
            "[4, 16, 36, 64]\n"
          ]
        }
      ]
    },
    {
      "cell_type": "markdown",
      "source": [
        "## Q.8-  what is a lambda function in python and when is it typically used?\n",
        "\n",
        "Answer:- A lambda function in Python is a small, anonymous function that is defined using the lambda keyword. It is used for creating simple functions in a single line of code, without the need to formally define them using the def keyword. Lambda functions can take any number of arguments but have only one expression, which is evaluated and returned.\n",
        "\n",
        "Syntax of a Lambda Function:"
      ],
      "metadata": {
        "id": "tdh-6YnnZHfE"
      }
    },
    {
      "cell_type": "code",
      "source": [
        "lambda arguments: expression"
      ],
      "metadata": {
        "colab": {
          "base_uri": "https://localhost:8080/"
        },
        "id": "aB-M7rHoZN3l",
        "outputId": "8d4e30c1-a6e4-473d-9009-1c04b76a2e3a"
      },
      "execution_count": null,
      "outputs": [
        {
          "output_type": "execute_result",
          "data": {
            "text/plain": [
              "<function __main__.<lambda>(arguments)>"
            ]
          },
          "metadata": {},
          "execution_count": 20
        }
      ]
    },
    {
      "cell_type": "markdown",
      "source": [
        "Arguments: The input parameters for the function.\n",
        "Expression: The computation or operation performed, and the result is automatically returned (no need for return keyword).\n",
        "Key Characteristics of Lambda Functions:\n",
        "Anonymous: They are often used without assigning a name to the function.\n",
        "Single Expression: A lambda function can only contain one expression, not multiple statements.\n",
        "Used for Simple Tasks: Typically used for small, short-lived operations that are not complex enough to require a full function definition.\n",
        "When to Use Lambda Functions:\n",
        "Lambda functions are commonly used in scenarios where a small function is required for a short period of time, especially as an argument to higher-order functions (like map(), filter(), or sorted()).\n",
        "\n",
        "Example 1: Basic Lambda Function"
      ],
      "metadata": {
        "id": "N-ci6Ds3ZQG1"
      }
    },
    {
      "cell_type": "code",
      "source": [
        "# A simple lambda function to add two numbers\n",
        "add = lambda x, y: x + y\n",
        "\n",
        "# Using the lambda function\n",
        "result = add(5, 3)\n",
        "print(result)  # Output: 8"
      ],
      "metadata": {
        "colab": {
          "base_uri": "https://localhost:8080/"
        },
        "id": "yS4UuvjDZS5N",
        "outputId": "10148cdb-41b1-4ae1-eaa8-dc89e531044e"
      },
      "execution_count": null,
      "outputs": [
        {
          "output_type": "stream",
          "name": "stdout",
          "text": [
            "8\n"
          ]
        }
      ]
    },
    {
      "cell_type": "markdown",
      "source": [
        "Here, lambda x, y: x + y defines a lambda function that takes two arguments, x and y, and returns their sum.\n",
        "\n",
        "Example 2: Using Lambda with map()\n",
        "map() applies a function to every item in an iterable (e.g., list)."
      ],
      "metadata": {
        "id": "T6oVRW_OZVHW"
      }
    },
    {
      "cell_type": "code",
      "source": [
        "# List of numbers\n",
        "numbers = [1, 2, 3, 4]\n",
        "\n",
        "# Using lambda function inside map to square each number\n",
        "squared_numbers = list(map(lambda x: x ** 2, numbers))\n",
        "\n",
        "print(squared_numbers)  # Output: [1, 4, 9, 16]"
      ],
      "metadata": {
        "colab": {
          "base_uri": "https://localhost:8080/"
        },
        "id": "0KCs0Zi8ZdX_",
        "outputId": "a47a6d56-edb1-418a-8faf-76d169aa87ec"
      },
      "execution_count": null,
      "outputs": [
        {
          "output_type": "stream",
          "name": "stdout",
          "text": [
            "[1, 4, 9, 16]\n"
          ]
        }
      ]
    },
    {
      "cell_type": "markdown",
      "source": [
        "filter() is used to filter elements from an iterable based on a condition."
      ],
      "metadata": {
        "id": "M65d288IZfcu"
      }
    },
    {
      "cell_type": "code",
      "source": [
        "# List of numbers\n",
        "numbers = [1, 2, 3, 4, 5, 6]\n",
        "\n",
        "# Using lambda function inside filter to select only even numbers\n",
        "even_numbers = list(filter(lambda x: x % 2 == 0, numbers))\n",
        "\n",
        "print(even_numbers)  # Output: [2, 4, 6]"
      ],
      "metadata": {
        "colab": {
          "base_uri": "https://localhost:8080/"
        },
        "id": "3yupNpYgZh2Y",
        "outputId": "3a095f33-9bc3-48e0-97fd-ba543316339c"
      },
      "execution_count": null,
      "outputs": [
        {
          "output_type": "stream",
          "name": "stdout",
          "text": [
            "[2, 4, 6]\n"
          ]
        }
      ]
    },
    {
      "cell_type": "markdown",
      "source": [
        "Example 4: Using Lambda with sorted()\n",
        "\n",
        "sorted() can use a lambda function to define custom sorting behavior."
      ],
      "metadata": {
        "id": "QGjJS4OIZkPv"
      }
    },
    {
      "cell_type": "code",
      "source": [
        "# List of tuples (name, age)\n",
        "people = [('Alice', 25), ('Bob', 30), ('Charlie', 20)]\n",
        "\n",
        "# Using lambda to sort by age (second element in each tuple)\n",
        "sorted_people = sorted(people, key=lambda x: x[1])\n",
        "\n",
        "print(sorted_people)\n",
        "# Output: [('Charlie', 20), ('Alice', 25), ('Bob', 30)]"
      ],
      "metadata": {
        "colab": {
          "base_uri": "https://localhost:8080/"
        },
        "id": "WVL3iNqSZma5",
        "outputId": "0e687d43-38bb-41f0-ef67-20df5b36ea8a"
      },
      "execution_count": null,
      "outputs": [
        {
          "output_type": "stream",
          "name": "stdout",
          "text": [
            "[('Charlie', 20), ('Alice', 25), ('Bob', 30)]\n"
          ]
        }
      ]
    },
    {
      "cell_type": "markdown",
      "source": [
        "Use Cases of Lambda Functions:\n",
        "\n",
        "Short and Simple Functions: When the function body is very simple, a lambda function is more concise than a regular def function.\n",
        "\n",
        "Inline Functions: Useful when passing small, temporary functions as arguments to higher-order functions (map(), filter(), etc.).\n",
        "\n",
        "Sorting or Filtering Data: Lambda functions are commonly used to define custom sorting or filtering rules.\n",
        "\n",
        "Reducing Code Overhead: When you don't need to define a named function (i.e., for single-use functions).\n",
        "\n",
        "Limitations of Lambda Functions:\n",
        "\n",
        "Limited to One Expression: Lambda functions are restricted to a single expression and cannot contain multiple statements or more complex logic.\n",
        "\n",
        "Harder to Debug: Since lambda functions are anonymous and generally used in a single line, they can be harder to debug than regular functions.\n",
        "\n",
        "Not Suitable for Complex Operations: For more complex logic, a regular function defined with def is generally preferred."
      ],
      "metadata": {
        "id": "8RRAYXQOZpD4"
      }
    },
    {
      "cell_type": "code",
      "source": [
        "# Lambda to add two numbers\n",
        "add = lambda x, y: x + y\n",
        "\n",
        "# Lambda inside map to square numbers\n",
        "numbers = [1, 2, 3, 4]\n",
        "squared_numbers = list(map(lambda x: x ** 2, numbers))\n",
        "\n",
        "# Lambda inside filter to get even numbers\n",
        "even_numbers = list(filter(lambda x: x % 2 == 0, numbers))"
      ],
      "metadata": {
        "id": "1qvmbibUZzLD"
      },
      "execution_count": null,
      "outputs": []
    },
    {
      "cell_type": "markdown",
      "source": [
        "## Q what is the difference between map(), reduce() and filter() functions in python.\n",
        "\n",
        "Answer:- The map(), filter(), and reduce() functions are built-in higher-order functions that apply a function to a sequence (like a list or tuple) to produce a new sequence or result. Each has a distinct purpose:\n",
        "\n",
        "1. map() Function\n",
        "Purpose: The map() function applies a given function to every item in an iterable (such as a list or tuple) and returns a map object (which can be converted to a list, tuple, etc.).\n",
        "Output: A new iterable where each element is the result of applying the function to the corresponding element in the original iterable."
      ],
      "metadata": {
        "id": "LT5jk1VCZvEp"
      }
    },
    {
      "cell_type": "code",
      "source": [
        "map(function, iterable)"
      ],
      "metadata": {
        "id": "NVVUdJikZ-GV"
      },
      "execution_count": null,
      "outputs": []
    },
    {
      "cell_type": "code",
      "source": [
        "# List of numbers\n",
        "numbers = [1, 2, 3, 4]\n",
        "\n",
        "# Using map to square each number\n",
        "squared_numbers = list(map(lambda x: x ** 2, numbers))\n",
        "\n",
        "print(squared_numbers)  # Output: [1, 4, 9, 16]"
      ],
      "metadata": {
        "colab": {
          "base_uri": "https://localhost:8080/"
        },
        "id": "QelkBFm2aA0r",
        "outputId": "091feb7a-f9ae-44c7-e5e7-b7af6c81f3a7"
      },
      "execution_count": null,
      "outputs": [
        {
          "output_type": "stream",
          "name": "stdout",
          "text": [
            "[1, 4, 9, 16]\n"
          ]
        }
      ]
    },
    {
      "cell_type": "markdown",
      "source": [
        "In this example, map() applies the lambda x: x ** 2 function to each item in the numbers list, creating a new list of squared numbers.\n",
        "2. filter() Function\n",
        "Purpose: The filter() function applies a function (that returns True or False) to each item in an iterable and returns only the elements for which the function evaluates to True.\n",
        "Output: A filtered iterable containing elements that satisfy the condition."
      ],
      "metadata": {
        "id": "pmRJIcrGaDHN"
      }
    },
    {
      "cell_type": "code",
      "source": [
        "filter(function, iterable)"
      ],
      "metadata": {
        "id": "PMxs9QlEaFoz"
      },
      "execution_count": null,
      "outputs": []
    },
    {
      "cell_type": "code",
      "source": [
        "# List of numbers\n",
        "numbers = [1, 2, 3, 4, 5, 6]\n",
        "\n",
        "# Using filter to get even numbers\n",
        "even_numbers = list(filter(lambda x: x % 2 == 0, numbers))\n",
        "\n",
        "print(even_numbers)  # Output: [2, 4, 6]"
      ],
      "metadata": {
        "colab": {
          "base_uri": "https://localhost:8080/"
        },
        "id": "k31FiV4gaHae",
        "outputId": "0f953f48-c9a0-40a0-f8b5-99c69f104309"
      },
      "execution_count": null,
      "outputs": [
        {
          "output_type": "stream",
          "name": "stdout",
          "text": [
            "[2, 4, 6]\n"
          ]
        }
      ]
    },
    {
      "cell_type": "markdown",
      "source": [
        "Here, filter() applies the lambda function x % 2 == 0 to filter out all the even numbers from the numbers list.\n",
        "3. reduce() Function\n",
        "\n",
        "Purpose:\n",
        "\n",
        " The reduce() function (from the functools module) applies a binary function (a function that takes two arguments) cumulatively to the items in an iterable, reducing it to a single value.\n",
        "\n",
        "Output:\n",
        "\n",
        "A single value that is the result of applying the function cumulatively to the elements of the iterable.\n",
        "\n",
        "we must import reduce() from the functools module, as it is not a built-in function.\n"
      ],
      "metadata": {
        "id": "-bAVhcmDaJmV"
      }
    },
    {
      "cell_type": "code",
      "source": [
        "from functools import reduce\n",
        "reduce(function, iterable)"
      ],
      "metadata": {
        "id": "T1AaUMkVaNuM"
      },
      "execution_count": null,
      "outputs": []
    },
    {
      "cell_type": "code",
      "source": [
        "from functools import reduce\n",
        "\n",
        "# List of numbers\n",
        "numbers = [1, 2, 3, 4]\n",
        "\n",
        "# Using reduce to calculate the product of all numbers\n",
        "product = reduce(lambda x, y: x * y, numbers)\n",
        "\n",
        "print(product)  # Output: 24 (1 * 2 * 3 * 4)"
      ],
      "metadata": {
        "colab": {
          "base_uri": "https://localhost:8080/"
        },
        "id": "An56qzkiaP-G",
        "outputId": "7f59f8f3-ef60-4a30-adda-ed126ca71cd6"
      },
      "execution_count": null,
      "outputs": [
        {
          "output_type": "stream",
          "name": "stdout",
          "text": [
            "24\n"
          ]
        }
      ]
    },
    {
      "cell_type": "markdown",
      "source": [
        "In this example, reduce() applies the lambda x, y: x * y function cumulatively, first multiplying 1 and 2, then multiplying the result with 3, and finally with 4, reducing the list to a single value (24).\n",
        "\n",
        "\n",
        "Detailed Example Combining map(), filter(), and reduce():"
      ],
      "metadata": {
        "id": "5g5H_7iyaR90"
      }
    },
    {
      "cell_type": "code",
      "source": [
        "from functools import reduce\n",
        "\n",
        "# List of numbers\n",
        "numbers = [1, 2, 3, 4, 5, 6]\n",
        "\n",
        "# Step 1: Use filter to get even numbers\n",
        "even_numbers = list(filter(lambda x: x % 2 == 0, numbers))  # Output: [2, 4, 6]\n",
        "\n",
        "# Step 2: Use map to square the even numbers\n",
        "squared_even_numbers = list(map(lambda x: x ** 2, even_numbers))  # Output: [4, 16, 36]\n",
        "\n",
        "# Step 3: Use reduce to sum the squared even numbers\n",
        "sum_of_squares = reduce(lambda x, y: x + y, squared_even_numbers)  # Output: 56\n",
        "\n",
        "print(sum_of_squares)  # Final output: 56"
      ],
      "metadata": {
        "id": "RBhpxdTFalMB",
        "colab": {
          "base_uri": "https://localhost:8080/"
        },
        "outputId": "db7cb5ca-910f-4ecb-c1e9-a5c57eab195b"
      },
      "execution_count": 8,
      "outputs": [
        {
          "output_type": "stream",
          "name": "stdout",
          "text": [
            "56\n"
          ]
        }
      ]
    },
    {
      "cell_type": "markdown",
      "source": [
        "![Q 11.jpeg](data:image/jpeg;base64,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)"
      ],
      "metadata": {
        "id": "wPfqE2SSawNa"
      }
    },
    {
      "cell_type": "markdown",
      "source": [
        "### Practical Questions"
      ],
      "metadata": {
        "id": "kPoHT1cDglSx"
      }
    },
    {
      "cell_type": "markdown",
      "source": [
        "## Q.1  Write a python function that takes a list as an input and returns the sum of all even numbers in the list."
      ],
      "metadata": {
        "id": "UnhVJXmSgsns"
      }
    },
    {
      "cell_type": "code",
      "source": [
        "def sum_of_even_numbers(numbers):\n",
        "\n",
        "    # Use a list comprehension to filter out even numbers and sum them\n",
        "    even_sum = sum([num for num in numbers if num % 2 == 0])\n",
        "    return even_sum\n",
        "\n",
        "# Example usage:\n",
        "numbers = [1, 2, 3, 4, 5, 6]\n",
        "result = sum_of_even_numbers(numbers)\n",
        "print(result)  # Output: 12 (2 + 4 + 6)"
      ],
      "metadata": {
        "id": "Iih21gmqhKX3"
      },
      "execution_count": null,
      "outputs": []
    },
    {
      "cell_type": "markdown",
      "source": [
        "## Q.2- Create a python function that accepts a string and reverse of that string."
      ],
      "metadata": {
        "id": "GTdXUEp5j-il"
      }
    },
    {
      "cell_type": "code",
      "source": [
        "def reverse_string(input_string):\n",
        "    # Return the reversed string using slicing\n",
        "    return input_string[::-1]\n",
        "\n",
        "# Example usage:\n",
        "input_string = \"Hello World\"\n",
        "reversed_string = reverse_string(input_string)\n",
        "print(reversed_string)  # Output: \"dlroW olleH\"\n"
      ],
      "metadata": {
        "id": "fVIcERTnh0Uz"
      },
      "execution_count": null,
      "outputs": []
    },
    {
      "cell_type": "markdown",
      "source": [
        "## Q.3- Implement a python function that takes a list of integers and returns a new list containing the squares of each number"
      ],
      "metadata": {
        "id": "egSfVTkckx8K"
      }
    },
    {
      "cell_type": "code",
      "source": [
        "def square_numbers(numbers):\n",
        "    # Use list comprehension to square each number in the list\n",
        "    squared_numbers = [num ** 2 for num in numbers]\n",
        "    return squared_numbers\n",
        "\n",
        "# Example usage:\n",
        "numbers = [1, 2, 3, 4, 5]\n",
        "result = square_numbers(numbers)\n",
        "print(result)  # Output: [1, 4, 9, 16, 25]"
      ],
      "metadata": {
        "id": "dJ6rz06tiR0b"
      },
      "execution_count": null,
      "outputs": []
    },
    {
      "cell_type": "markdown",
      "source": [
        "## Q.4- Write a python function that checks if a given number is prime or not from 1 to 200"
      ],
      "metadata": {
        "id": "c_zdiaB7lH2Q"
      }
    },
    {
      "cell_type": "code",
      "source": [
        "def is_prime(number):\n",
        "    # Prime numbers are greater than 1\n",
        "    if number <= 1:\n",
        "        return False\n",
        "    # Check divisibility for numbers from 2 to the square root of the number\n",
        "    for i in range(2, int(number ** 0.5) + 1):\n",
        "        if number % i == 0:\n",
        "            return False\n",
        "    return True\n",
        "\n",
        "# Example usage:\n",
        "for num in range(1, 201):\n",
        "    if is_prime(num):\n",
        "        print(f\"{num} is a prime number\")\n",
        "    else:\n",
        "      print(f\"{num} is not a prime number\")"
      ],
      "metadata": {
        "id": "XQ-CDKOylZev"
      },
      "execution_count": null,
      "outputs": []
    },
    {
      "cell_type": "markdown",
      "source": [
        "## Q.5- Create an iterator class in python that generates the Fibonacci sequence upto a specified number of terms\n"
      ],
      "metadata": {
        "id": "xvsdDux6mtXS"
      }
    },
    {
      "cell_type": "code",
      "source": [
        "class FibonacciIterator:\n",
        "    def __init__(self, n_terms):\n",
        "        self.n_terms = n_terms  # Total number of terms in the sequence\n",
        "        self.current_term = 0   # Tracks the number of terms generated so far\n",
        "        self.a, self.b = 0, 1   # Starting values for the Fibonacci sequence\n",
        "\n",
        "    # __iter__ makes the class iterable\n",
        "    def __iter__(self):\n",
        "        return self\n",
        "\n",
        "    # __next__ generates the next value in the Fibonacci sequence\n",
        "    def __next__(self):\n",
        "        if self.current_term >= self.n_terms:\n",
        "            raise StopIteration  # Stop iteration after reaching the specified number of terms\n",
        "\n",
        "        # Generate the next Fibonacci number\n",
        "        fib = self.a\n",
        "        self.a, self.b = self.b, self.a + self.b  # Update values for the next iteration\n",
        "        self.current_term += 1\n",
        "        return fib\n",
        "\n",
        "# Example usage:\n",
        "n = 10  # Specify the number of Fibonacci terms\n",
        "fib_iterator = FibonacciIterator(n)\n",
        "\n",
        "# Iterate through the Fibonacci sequence\n",
        "for fib in fib_iterator:\n",
        "    print(fib)"
      ],
      "metadata": {
        "id": "45oBgkORm8EF"
      },
      "execution_count": null,
      "outputs": []
    },
    {
      "cell_type": "markdown",
      "source": [
        "## Q.6- Write a generator function in python that yield the powers of 2 up to a given exponent"
      ],
      "metadata": {
        "id": "0R8onQYpnhrp"
      }
    },
    {
      "cell_type": "code",
      "source": [
        "def powers_of_two(max_exponent):\n",
        "    # Generate powers of 2 from 0 up to max_exponent\n",
        "    for exponent in range(max_exponent + 1):\n",
        "        yield 2 ** exponent\n",
        "\n",
        "# Example usage:\n",
        "for power in powers_of_two(5):\n",
        "    print(power)"
      ],
      "metadata": {
        "id": "dp4R_z45nYxe"
      },
      "execution_count": null,
      "outputs": []
    },
    {
      "cell_type": "markdown",
      "source": [
        "## Q. 7 -  Implement a generator function that read a file line by line and yield each line as a string"
      ],
      "metadata": {
        "id": "z09idWJmqrYz"
      }
    },
    {
      "cell_type": "code",
      "source": [
        "def read_lines(filename):\n",
        "    \"\"\"\n",
        "    Generator function that reads a file line by line.\n",
        "\n",
        "    :param filename: The path to the file to be read.\n",
        "    :yield: Each line from the file as a string.\n",
        "    \"\"\"\n",
        "    try:\n",
        "        with open(filename, 'r') as file:\n",
        "            for line in file:\n",
        "                yield line.rstrip('\\n')  # Remove newline characters from the end of each line\n",
        "    except FileNotFoundError:\n",
        "        print(f\"The file {filename} does not exist.\")\n",
        "    except IOError as e:\n",
        "        print(f\"An IOError occurred: {e}\")\n",
        "\n",
        "# Example usage:\n",
        "filename = '/content/example.txt'  # Replace with the path to your file\n",
        "\n",
        "for line in read_lines(filename):\n",
        "    print(line)"
      ],
      "metadata": {
        "id": "boL2SHR1n7mm",
        "colab": {
          "base_uri": "https://localhost:8080/"
        },
        "outputId": "5c7deddd-26b9-4b25-d70f-62567081bacb"
      },
      "execution_count": 10,
      "outputs": [
        {
          "output_type": "stream",
          "name": "stdout",
          "text": [
            "1. Data Independence: A DBMS provides data independence, which means it separates the physical representation of data from its logical structure. This allows changes to be made to the database structure without affecting the applications that use the data.\n",
            "2. Data Definition Language (DDL): A DBMS provides a DDL that allows users to define the database schema, including creating tables, specifying relationships, and defining constraints. The DDL provides a way to describe the structure of the database.\n",
            "3. Data Manipulation Language (DML): A DBMS provides a DML that allows users to manipulate the data in the database. The DML includes commands for inserting, updating, deleting, and querying data.\n",
            "4. Data Integrity: A DBMS ensures data integrity by enforcing constraints and rules defined in the database schema. It prevents invalid data from being inserted or maintained in the database.\n",
            "5. Concurrency Control: A DBMS manages concurrent access to the database by multiple users or applications. It ensures that transactions are executed in an isolated and consistent manner, preventing conflicts and maintaining data integrity.\n",
            "\n"
          ]
        }
      ]
    },
    {
      "cell_type": "markdown",
      "source": [
        "## Q. 8- Use a lambda function in python to sort a list of tuples based on the second element of each tuple"
      ],
      "metadata": {
        "id": "7Og5jCaJp8Cs"
      }
    },
    {
      "cell_type": "code",
      "source": [
        "# List of tuples\n",
        "data = [('Rohit', 30), ('Ashu', 25), ('Pankaj', 35), ('Vipan', 28)]\n",
        "\n",
        "# Sort the list of tuples based on the second element of each tuple\n",
        "sorted_data = sorted(data, key=lambda x: x[1])\n",
        "\n",
        "# Print the sorted list\n",
        "print(sorted_data)"
      ],
      "metadata": {
        "id": "cTp_uHfiqRNf"
      },
      "execution_count": null,
      "outputs": []
    },
    {
      "cell_type": "markdown",
      "source": [
        "Q.9- Write a python program that uses map() to convert a list of temperatures from celsius to fahrenheit."
      ],
      "metadata": {
        "id": "kaWBVdMzraRp"
      }
    },
    {
      "cell_type": "code",
      "source": [
        "def cel_to_fahr(celsius):\n",
        "    # convert celsius temperature in fahrenheit\n",
        "    return (celsius * 9/5) + 32\n",
        "\n",
        "# List of temperatures in Celsius\n",
        "cel_temp = [0, 20, 37, 100]\n",
        "\n",
        "# Use map to apply the conversion function to each temperature\n",
        "fahr_temp = list(map(cel_to_fahr, cel_temp))\n",
        "\n",
        "# Print the converted temperatures\n",
        "print(fahr_temp)\n"
      ],
      "metadata": {
        "colab": {
          "base_uri": "https://localhost:8080/"
        },
        "id": "ZvwIwoGbqZlS",
        "outputId": "e6b272c5-400e-486c-d403-10b16a9485bd"
      },
      "execution_count": null,
      "outputs": [
        {
          "output_type": "stream",
          "name": "stdout",
          "text": [
            "[32.0, 68.0, 98.6, 212.0]\n"
          ]
        }
      ]
    },
    {
      "cell_type": "markdown",
      "source": [
        "Q 10- Create a python program that uses filter() to remove all the vowels from a given string"
      ],
      "metadata": {
        "id": "twO6kCKS6frU"
      }
    },
    {
      "cell_type": "code",
      "source": [
        "def remove_vowels(s):\n",
        "    vowels = 'aeiouAEIOU'  # Define a string of vowels\n",
        "    # Use filter to remove vowels\n",
        "    filtered_chars = filter(lambda char: char not in vowels, s)\n",
        "    # Join the filtered characters back into a string\n",
        "    return ''.join(filtered_chars)\n",
        "\n",
        "# Example usage:\n",
        "input_str = \"Vipan kumar\"\n",
        "result = remove_vowels(input_str)\n",
        "print(result)"
      ],
      "metadata": {
        "colab": {
          "base_uri": "https://localhost:8080/"
        },
        "outputId": "a790131b-7661-4228-847a-cb0f773ef4fc",
        "id": "TXYmaW9X5UVj"
      },
      "execution_count": null,
      "outputs": [
        {
          "output_type": "stream",
          "name": "stdout",
          "text": [
            "Vpn kmr\n"
          ]
        }
      ]
    },
    {
      "cell_type": "markdown",
      "source": [
        "Q 11 imagine an accounting routine used in a book shop. it works on a list with sublists, which look like this\n",
        "\n",
        "order_Numbers = [34587, 98762, 77226, 88112]\n",
        "\n",
        "book_Title_and_Author = [\"Learning python, Mark Luts\", Programming Python, Mark Lutz\", Head First Python, Paul Barry\", Einfuhrung in Python3, Bernd Klein\"]\n",
        "\n",
        "quantity = [4,5,3,3]\n",
        "\n",
        "price_per_Item = [40.95, 56.80, 32.95, 24.99]\n",
        "\n",
        "Write a python program, which returns a list with 2- tuples. Each tuple consists of the order number and the prodct of the price per item and the quantity. The product should be increased by 10, if the value of the order is smaller than 10000.\n",
        "\n",
        "write a program using lambda and map\n"
      ],
      "metadata": {
        "id": "LHOUhAdc8pat"
      }
    },
    {
      "cell_type": "code",
      "source": [
        "order_Numbers = [34587, 98762, 77226, 88112]\n",
        "book_Title_and_Author = [\"Learning python, Mark Luts\", \"Programming Python, Mark Lutz\", \"Head First Python, Paul Barry\", \"Einfuhrung in Python3, Bernd Klein\"]\n",
        "quantity = [4,5,3,3]\n",
        "price_per_Item = [40.95, 56.80, 32.95, 24.99]\n",
        "\n",
        "def calculate_order_total(order_number, quantity, price_per_item):\n",
        "    total = quantity * price_per_item\n",
        "    if total < 10000:\n",
        "        total += 10\n",
        "    return (order_number, total)\n",
        "\n",
        "# Use map with a lambda function to apply the calculation to each order\n",
        "order_totals = list(map(lambda i: calculate_order_total(order_Numbers[i], quantity[i], price_per_Item[i]), range(len(order_Numbers))))\n",
        "\n",
        "print(order_totals)\n"
      ],
      "metadata": {
        "colab": {
          "base_uri": "https://localhost:8080/"
        },
        "id": "dVd8SrU_WGV7",
        "outputId": "8fa9edf8-b509-497b-fbeb-d60a7106f106"
      },
      "execution_count": null,
      "outputs": [
        {
          "output_type": "stream",
          "name": "stdout",
          "text": [
            "[(34587, 173.8), (98762, 294.0), (77226, 108.85000000000001), (88112, 84.97)]\n"
          ]
        }
      ]
    },
    {
      "cell_type": "code",
      "source": [],
      "metadata": {
        "id": "f8YhsjIB_jXQ"
      },
      "execution_count": null,
      "outputs": []
    }
  ]
}